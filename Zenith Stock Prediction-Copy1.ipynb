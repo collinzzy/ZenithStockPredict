{
 "cells": [
  {
   "cell_type": "code",
   "execution_count": 161,
   "id": "522bb971",
   "metadata": {},
   "outputs": [],
   "source": [
    "import pandas as pd\n",
    "import numpy as np\n",
    "from sklearn import metrics\n",
    "%matplotlib inline\n",
    "import matplotlib.pyplot as plt"
   ]
  },
  {
   "cell_type": "code",
   "execution_count": 181,
   "id": "ad1c6fb2",
   "metadata": {},
   "outputs": [],
   "source": [
    "df = pd.read_excel('ZENITHB.xlsx',index_col=\"Date\",parse_dates=True)"
   ]
  },
  {
   "cell_type": "code",
   "execution_count": 182,
   "id": "8ab2d10b",
   "metadata": {},
   "outputs": [
    {
     "data": {
      "text/html": [
       "<div>\n",
       "<style scoped>\n",
       "    .dataframe tbody tr th:only-of-type {\n",
       "        vertical-align: middle;\n",
       "    }\n",
       "\n",
       "    .dataframe tbody tr th {\n",
       "        vertical-align: top;\n",
       "    }\n",
       "\n",
       "    .dataframe thead th {\n",
       "        text-align: right;\n",
       "    }\n",
       "</style>\n",
       "<table border=\"1\" class=\"dataframe\">\n",
       "  <thead>\n",
       "    <tr style=\"text-align: right;\">\n",
       "      <th></th>\n",
       "      <th>Close</th>\n",
       "      <th>Open</th>\n",
       "      <th>High</th>\n",
       "      <th>Low</th>\n",
       "      <th>Vol(millions)</th>\n",
       "    </tr>\n",
       "    <tr>\n",
       "      <th>Date</th>\n",
       "      <th></th>\n",
       "      <th></th>\n",
       "      <th></th>\n",
       "      <th></th>\n",
       "      <th></th>\n",
       "    </tr>\n",
       "  </thead>\n",
       "  <tbody>\n",
       "    <tr>\n",
       "      <th>2023-05-23</th>\n",
       "      <td>27.00</td>\n",
       "      <td>26.45</td>\n",
       "      <td>27.00</td>\n",
       "      <td>26.25</td>\n",
       "      <td>59.00</td>\n",
       "    </tr>\n",
       "    <tr>\n",
       "      <th>2023-05-22</th>\n",
       "      <td>26.45</td>\n",
       "      <td>26.00</td>\n",
       "      <td>26.45</td>\n",
       "      <td>25.05</td>\n",
       "      <td>53.43</td>\n",
       "    </tr>\n",
       "    <tr>\n",
       "      <th>2023-05-19</th>\n",
       "      <td>26.00</td>\n",
       "      <td>25.00</td>\n",
       "      <td>26.00</td>\n",
       "      <td>24.90</td>\n",
       "      <td>57.85</td>\n",
       "    </tr>\n",
       "    <tr>\n",
       "      <th>2023-05-18</th>\n",
       "      <td>25.00</td>\n",
       "      <td>25.15</td>\n",
       "      <td>25.00</td>\n",
       "      <td>24.90</td>\n",
       "      <td>29.06</td>\n",
       "    </tr>\n",
       "    <tr>\n",
       "      <th>2023-05-17</th>\n",
       "      <td>25.15</td>\n",
       "      <td>24.50</td>\n",
       "      <td>25.35</td>\n",
       "      <td>24.50</td>\n",
       "      <td>31.70</td>\n",
       "    </tr>\n",
       "  </tbody>\n",
       "</table>\n",
       "</div>"
      ],
      "text/plain": [
       "            Close   Open   High    Low  Vol(millions)\n",
       "Date                                                 \n",
       "2023-05-23  27.00  26.45  27.00  26.25          59.00\n",
       "2023-05-22  26.45  26.00  26.45  25.05          53.43\n",
       "2023-05-19  26.00  25.00  26.00  24.90          57.85\n",
       "2023-05-18  25.00  25.15  25.00  24.90          29.06\n",
       "2023-05-17  25.15  24.50  25.35  24.50          31.70"
      ]
     },
     "execution_count": 182,
     "metadata": {},
     "output_type": "execute_result"
    }
   ],
   "source": [
    "df.head()"
   ]
  },
  {
   "cell_type": "code",
   "execution_count": 183,
   "id": "c1afcb7b",
   "metadata": {},
   "outputs": [
    {
     "data": {
      "text/html": [
       "<div>\n",
       "<style scoped>\n",
       "    .dataframe tbody tr th:only-of-type {\n",
       "        vertical-align: middle;\n",
       "    }\n",
       "\n",
       "    .dataframe tbody tr th {\n",
       "        vertical-align: top;\n",
       "    }\n",
       "\n",
       "    .dataframe thead th {\n",
       "        text-align: right;\n",
       "    }\n",
       "</style>\n",
       "<table border=\"1\" class=\"dataframe\">\n",
       "  <thead>\n",
       "    <tr style=\"text-align: right;\">\n",
       "      <th></th>\n",
       "      <th>Close</th>\n",
       "      <th>Open</th>\n",
       "      <th>High</th>\n",
       "      <th>Low</th>\n",
       "      <th>Vol(millions)</th>\n",
       "    </tr>\n",
       "  </thead>\n",
       "  <tbody>\n",
       "    <tr>\n",
       "      <th>count</th>\n",
       "      <td>2804.000000</td>\n",
       "      <td>2804.000000</td>\n",
       "      <td>2804.000000</td>\n",
       "      <td>2804.000000</td>\n",
       "      <td>2804.000000</td>\n",
       "    </tr>\n",
       "    <tr>\n",
       "      <th>mean</th>\n",
       "      <td>20.379105</td>\n",
       "      <td>20.372397</td>\n",
       "      <td>20.601327</td>\n",
       "      <td>20.163520</td>\n",
       "      <td>26.693003</td>\n",
       "    </tr>\n",
       "    <tr>\n",
       "      <th>std</th>\n",
       "      <td>4.394871</td>\n",
       "      <td>4.444343</td>\n",
       "      <td>4.419674</td>\n",
       "      <td>4.371722</td>\n",
       "      <td>38.349827</td>\n",
       "    </tr>\n",
       "    <tr>\n",
       "      <th>min</th>\n",
       "      <td>9.000000</td>\n",
       "      <td>0.000000</td>\n",
       "      <td>9.440000</td>\n",
       "      <td>8.830000</td>\n",
       "      <td>1.000000</td>\n",
       "    </tr>\n",
       "    <tr>\n",
       "      <th>25%</th>\n",
       "      <td>16.800000</td>\n",
       "      <td>16.800000</td>\n",
       "      <td>16.987500</td>\n",
       "      <td>16.600000</td>\n",
       "      <td>9.727500</td>\n",
       "    </tr>\n",
       "    <tr>\n",
       "      <th>50%</th>\n",
       "      <td>21.000000</td>\n",
       "      <td>21.000000</td>\n",
       "      <td>21.290000</td>\n",
       "      <td>20.720000</td>\n",
       "      <td>17.250000</td>\n",
       "    </tr>\n",
       "    <tr>\n",
       "      <th>75%</th>\n",
       "      <td>24.000000</td>\n",
       "      <td>23.960000</td>\n",
       "      <td>24.050000</td>\n",
       "      <td>23.712500</td>\n",
       "      <td>30.790000</td>\n",
       "    </tr>\n",
       "    <tr>\n",
       "      <th>max</th>\n",
       "      <td>33.510000</td>\n",
       "      <td>34.200000</td>\n",
       "      <td>34.200000</td>\n",
       "      <td>32.550000</td>\n",
       "      <td>831.390000</td>\n",
       "    </tr>\n",
       "  </tbody>\n",
       "</table>\n",
       "</div>"
      ],
      "text/plain": [
       "             Close         Open         High          Low  Vol(millions)\n",
       "count  2804.000000  2804.000000  2804.000000  2804.000000    2804.000000\n",
       "mean     20.379105    20.372397    20.601327    20.163520      26.693003\n",
       "std       4.394871     4.444343     4.419674     4.371722      38.349827\n",
       "min       9.000000     0.000000     9.440000     8.830000       1.000000\n",
       "25%      16.800000    16.800000    16.987500    16.600000       9.727500\n",
       "50%      21.000000    21.000000    21.290000    20.720000      17.250000\n",
       "75%      24.000000    23.960000    24.050000    23.712500      30.790000\n",
       "max      33.510000    34.200000    34.200000    32.550000     831.390000"
      ]
     },
     "execution_count": 183,
     "metadata": {},
     "output_type": "execute_result"
    }
   ],
   "source": [
    "df.describe()"
   ]
  },
  {
   "cell_type": "code",
   "execution_count": 184,
   "id": "89219759",
   "metadata": {},
   "outputs": [
    {
     "data": {
      "text/plain": [
       "(2804, 5)"
      ]
     },
     "execution_count": 184,
     "metadata": {},
     "output_type": "execute_result"
    }
   ],
   "source": [
    "df.shape"
   ]
  },
  {
   "cell_type": "code",
   "execution_count": 185,
   "id": "85778066",
   "metadata": {},
   "outputs": [
    {
     "data": {
      "text/html": [
       "<div>\n",
       "<style scoped>\n",
       "    .dataframe tbody tr th:only-of-type {\n",
       "        vertical-align: middle;\n",
       "    }\n",
       "\n",
       "    .dataframe tbody tr th {\n",
       "        vertical-align: top;\n",
       "    }\n",
       "\n",
       "    .dataframe thead th {\n",
       "        text-align: right;\n",
       "    }\n",
       "</style>\n",
       "<table border=\"1\" class=\"dataframe\">\n",
       "  <thead>\n",
       "    <tr style=\"text-align: right;\">\n",
       "      <th></th>\n",
       "      <th>Close</th>\n",
       "      <th>Open</th>\n",
       "      <th>High</th>\n",
       "      <th>Low</th>\n",
       "      <th>Vol(millions)</th>\n",
       "    </tr>\n",
       "    <tr>\n",
       "      <th>Date</th>\n",
       "      <th></th>\n",
       "      <th></th>\n",
       "      <th></th>\n",
       "      <th></th>\n",
       "      <th></th>\n",
       "    </tr>\n",
       "  </thead>\n",
       "  <tbody>\n",
       "    <tr>\n",
       "      <th>2012-01-27</th>\n",
       "      <td>12.10</td>\n",
       "      <td>12.01</td>\n",
       "      <td>12.22</td>\n",
       "      <td>12.01</td>\n",
       "      <td>117.01</td>\n",
       "    </tr>\n",
       "    <tr>\n",
       "      <th>2012-01-26</th>\n",
       "      <td>12.02</td>\n",
       "      <td>12.00</td>\n",
       "      <td>12.02</td>\n",
       "      <td>11.97</td>\n",
       "      <td>61.36</td>\n",
       "    </tr>\n",
       "    <tr>\n",
       "      <th>2012-01-25</th>\n",
       "      <td>12.00</td>\n",
       "      <td>12.00</td>\n",
       "      <td>12.10</td>\n",
       "      <td>11.95</td>\n",
       "      <td>46.58</td>\n",
       "    </tr>\n",
       "    <tr>\n",
       "      <th>2012-01-24</th>\n",
       "      <td>11.96</td>\n",
       "      <td>12.00</td>\n",
       "      <td>12.00</td>\n",
       "      <td>11.95</td>\n",
       "      <td>8.27</td>\n",
       "    </tr>\n",
       "    <tr>\n",
       "      <th>2012-01-23</th>\n",
       "      <td>12.00</td>\n",
       "      <td>12.05</td>\n",
       "      <td>12.05</td>\n",
       "      <td>11.95</td>\n",
       "      <td>16.15</td>\n",
       "    </tr>\n",
       "  </tbody>\n",
       "</table>\n",
       "</div>"
      ],
      "text/plain": [
       "            Close   Open   High    Low  Vol(millions)\n",
       "Date                                                 \n",
       "2012-01-27  12.10  12.01  12.22  12.01         117.01\n",
       "2012-01-26  12.02  12.00  12.02  11.97          61.36\n",
       "2012-01-25  12.00  12.00  12.10  11.95          46.58\n",
       "2012-01-24  11.96  12.00  12.00  11.95           8.27\n",
       "2012-01-23  12.00  12.05  12.05  11.95          16.15"
      ]
     },
     "execution_count": 185,
     "metadata": {},
     "output_type": "execute_result"
    }
   ],
   "source": [
    "df.tail()"
   ]
  },
  {
   "cell_type": "code",
   "execution_count": 186,
   "id": "ed4dc17c",
   "metadata": {},
   "outputs": [
    {
     "data": {
      "text/plain": [
       "Close            0\n",
       "Open             0\n",
       "High             0\n",
       "Low              0\n",
       "Vol(millions)    0\n",
       "dtype: int64"
      ]
     },
     "execution_count": 186,
     "metadata": {},
     "output_type": "execute_result"
    }
   ],
   "source": [
    "df.isnull().sum()"
   ]
  },
  {
   "cell_type": "code",
   "execution_count": 187,
   "id": "5aeb4881",
   "metadata": {},
   "outputs": [
    {
     "data": {
      "text/plain": [
       "Close            False\n",
       "Open             False\n",
       "High             False\n",
       "Low              False\n",
       "Vol(millions)    False\n",
       "dtype: bool"
      ]
     },
     "execution_count": 187,
     "metadata": {},
     "output_type": "execute_result"
    }
   ],
   "source": [
    "df.isna().any()"
   ]
  },
  {
   "cell_type": "code",
   "execution_count": 188,
   "id": "8acae3e7",
   "metadata": {},
   "outputs": [
    {
     "name": "stdout",
     "output_type": "stream",
     "text": [
      "<class 'pandas.core.frame.DataFrame'>\n",
      "DatetimeIndex: 2804 entries, 2023-05-23 to 2012-01-23\n",
      "Data columns (total 5 columns):\n",
      " #   Column         Non-Null Count  Dtype  \n",
      "---  ------         --------------  -----  \n",
      " 0   Close          2804 non-null   float64\n",
      " 1   Open           2804 non-null   float64\n",
      " 2   High           2804 non-null   float64\n",
      " 3   Low            2804 non-null   float64\n",
      " 4   Vol(millions)  2804 non-null   float64\n",
      "dtypes: float64(5)\n",
      "memory usage: 131.4 KB\n"
     ]
    }
   ],
   "source": [
    "df.info()"
   ]
  },
  {
   "cell_type": "code",
   "execution_count": 189,
   "id": "55d366ae",
   "metadata": {},
   "outputs": [
    {
     "name": "stdout",
     "output_type": "stream",
     "text": [
      "2804\n"
     ]
    }
   ],
   "source": [
    "print(len(df))"
   ]
  },
  {
   "cell_type": "code",
   "execution_count": 190,
   "id": "1aaee88a",
   "metadata": {},
   "outputs": [
    {
     "data": {
      "text/plain": [
       "<AxesSubplot:xlabel='Date'>"
      ]
     },
     "execution_count": 190,
     "metadata": {},
     "output_type": "execute_result"
    },
    {
     "data": {
      "image/png": "[encoded data removed]",
      "text/plain": [
       "<Figure size 1600x600 with 1 Axes>"
      ]
     },
     "metadata": {},
     "output_type": "display_data"
    }
   ],
   "source": [
    "df['Open'].plot(figsize=(16,6))"
   ]
  },
  {
   "cell_type": "code",
   "execution_count": 191,
   "id": "20d2f472",
   "metadata": {
    "scrolled": true
   },
   "outputs": [],
   "source": [
    "X  = df[['Open','High','Low','Vol(millions)']]\n",
    "y = df['Close']"
   ]
  },
  {
   "cell_type": "code",
   "execution_count": 192,
   "id": "9e112f9f",
   "metadata": {},
   "outputs": [],
   "source": [
    "from sklearn.model_selection import train_test_split\n",
    "X_train , X_test , y_train , y_test = train_test_split(X ,y , random_state = 0)"
   ]
  },
  {
   "cell_type": "code",
   "execution_count": 193,
   "id": "4483ee41",
   "metadata": {},
   "outputs": [
    {
     "data": {
      "text/plain": [
       "(2103, 4)"
      ]
     },
     "execution_count": 193,
     "metadata": {},
     "output_type": "execute_result"
    }
   ],
   "source": [
    "X_train.shape"
   ]
  },
  {
   "cell_type": "code",
   "execution_count": 194,
   "id": "0b64870a",
   "metadata": {},
   "outputs": [
    {
     "data": {
      "text/plain": [
       "(701, 4)"
      ]
     },
     "execution_count": 194,
     "metadata": {},
     "output_type": "execute_result"
    }
   ],
   "source": [
    "X_test.shape"
   ]
  },
  {
   "cell_type": "code",
   "execution_count": 195,
   "id": "039ed8f8",
   "metadata": {},
   "outputs": [],
   "source": [
    "from sklearn.linear_model import LinearRegression\n",
    "from sklearn.metrics import confusion_matrix, accuracy_score\n",
    "regressor = LinearRegression()"
   ]
  },
  {
   "cell_type": "code",
   "execution_count": 196,
   "id": "9b8b8ef5",
   "metadata": {},
   "outputs": [
    {
     "data": {
      "text/plain": [
       "LinearRegression()"
      ]
     },
     "execution_count": 196,
     "metadata": {},
     "output_type": "execute_result"
    }
   ],
   "source": [
    "regressor.fit(X_train,y_train)"
   ]
  },
  {
   "cell_type": "code",
   "execution_count": 197,
   "id": "f15fec47",
   "metadata": {},
   "outputs": [
    {
     "name": "stdout",
     "output_type": "stream",
     "text": [
      "[-6.31256103e-02  5.59855382e-01  5.03605542e-01  7.40820146e-05]\n"
     ]
    }
   ],
   "source": [
    "print(regressor.coef_)"
   ]
  },
  {
   "cell_type": "code",
   "execution_count": 198,
   "id": "741ae20c",
   "metadata": {},
   "outputs": [
    {
     "name": "stdout",
     "output_type": "stream",
     "text": [
      "-0.026562062531986896\n"
     ]
    }
   ],
   "source": [
    "print(regressor.intercept_)"
   ]
  },
  {
   "cell_type": "code",
   "execution_count": 199,
   "id": "1a0962b4",
   "metadata": {
    "scrolled": true
   },
   "outputs": [],
   "source": [
    "predicted = regressor.predict(X_test)"
   ]
  },
  {
   "cell_type": "code",
   "execution_count": 200,
   "id": "b9df02ea",
   "metadata": {},
   "outputs": [
    {
     "name": "stdout",
     "output_type": "stream",
     "text": [
      "             Open   High    Low  Vol(millions)\n",
      "Date                                          \n",
      "2019-09-12  18.60  18.60  18.50          24.23\n",
      "2020-11-26  24.50  25.00  24.50          40.57\n",
      "2023-07-02  25.10  25.10  25.00          14.67\n",
      "2021-12-17  24.80  25.20  24.80          21.94\n",
      "2022-11-28  21.90  22.00  21.70           7.12\n",
      "...           ...    ...    ...            ...\n",
      "2018-10-19  22.55  22.90  22.55           8.55\n",
      "2023-02-22  25.00  25.20  25.00          13.00\n",
      "2015-04-27  22.00  22.00  21.94          11.60\n",
      "2019-10-04  20.15  21.05  20.20          11.67\n",
      "2021-09-20  23.80  23.70  23.50           5.66\n",
      "\n",
      "[701 rows x 4 columns]\n"
     ]
    }
   ],
   "source": [
    "print(X_test)"
   ]
  },
  {
   "cell_type": "code",
   "execution_count": 201,
   "id": "c645a1ba",
   "metadata": {},
   "outputs": [
    {
     "data": {
      "text/plain": [
       "(701,)"
      ]
     },
     "execution_count": 201,
     "metadata": {},
     "output_type": "execute_result"
    }
   ],
   "source": [
    "predicted.shape"
   ]
  },
  {
   "cell_type": "code",
   "execution_count": 202,
   "id": "ebcaeb65",
   "metadata": {},
   "outputs": [],
   "source": [
    "dframe=pd.DataFrame(y_test,predicted)"
   ]
  },
  {
   "cell_type": "code",
   "execution_count": 203,
   "id": "835f9f17",
   "metadata": {},
   "outputs": [],
   "source": [
    "dfr=pd.DataFrame({'Actual':y_test,'Predicted':predicted})"
   ]
  },
  {
   "cell_type": "code",
   "execution_count": 204,
   "id": "d4e5aa77",
   "metadata": {},
   "outputs": [
    {
     "name": "stdout",
     "output_type": "stream",
     "text": [
      "            Actual  Predicted\n",
      "Date                         \n",
      "2019-09-12    18.5  18.531109\n",
      "2020-11-26    24.5  24.764586\n",
      "2023-07-02    25.0  25.032581\n",
      "2021-12-17    24.8  25.007321\n",
      "2022-11-28    22.0  21.836573\n",
      "...            ...        ...\n",
      "2018-10-19    22.9  22.727582\n",
      "2023-02-22    25.2  25.094755\n",
      "2015-04-27    22.0  21.951458\n",
      "2019-10-04    20.6  20.660109\n",
      "2021-09-20    23.5  23.574771\n",
      "\n",
      "[701 rows x 2 columns]\n"
     ]
    }
   ],
   "source": [
    "print(dfr)"
   ]
  },
  {
   "cell_type": "code",
   "execution_count": 205,
   "id": "0a2d590a",
   "metadata": {},
   "outputs": [
    {
     "data": {
      "text/html": [
       "<div>\n",
       "<style scoped>\n",
       "    .dataframe tbody tr th:only-of-type {\n",
       "        vertical-align: middle;\n",
       "    }\n",
       "\n",
       "    .dataframe tbody tr th {\n",
       "        vertical-align: top;\n",
       "    }\n",
       "\n",
       "    .dataframe thead th {\n",
       "        text-align: right;\n",
       "    }\n",
       "</style>\n",
       "<table border=\"1\" class=\"dataframe\">\n",
       "  <thead>\n",
       "    <tr style=\"text-align: right;\">\n",
       "      <th></th>\n",
       "      <th>Actual</th>\n",
       "      <th>Predicted</th>\n",
       "    </tr>\n",
       "    <tr>\n",
       "      <th>Date</th>\n",
       "      <th></th>\n",
       "      <th></th>\n",
       "    </tr>\n",
       "  </thead>\n",
       "  <tbody>\n",
       "    <tr>\n",
       "      <th>2019-09-12</th>\n",
       "      <td>18.50</td>\n",
       "      <td>18.531109</td>\n",
       "    </tr>\n",
       "    <tr>\n",
       "      <th>2020-11-26</th>\n",
       "      <td>24.50</td>\n",
       "      <td>24.764586</td>\n",
       "    </tr>\n",
       "    <tr>\n",
       "      <th>2023-07-02</th>\n",
       "      <td>25.00</td>\n",
       "      <td>25.032581</td>\n",
       "    </tr>\n",
       "    <tr>\n",
       "      <th>2021-12-17</th>\n",
       "      <td>24.80</td>\n",
       "      <td>25.007321</td>\n",
       "    </tr>\n",
       "    <tr>\n",
       "      <th>2022-11-28</th>\n",
       "      <td>22.00</td>\n",
       "      <td>21.836573</td>\n",
       "    </tr>\n",
       "    <tr>\n",
       "      <th>2022-11-18</th>\n",
       "      <td>21.35</td>\n",
       "      <td>21.157854</td>\n",
       "    </tr>\n",
       "    <tr>\n",
       "      <th>2016-04-11</th>\n",
       "      <td>14.80</td>\n",
       "      <td>14.859396</td>\n",
       "    </tr>\n",
       "    <tr>\n",
       "      <th>2022-08-03</th>\n",
       "      <td>26.80</td>\n",
       "      <td>26.785950</td>\n",
       "    </tr>\n",
       "    <tr>\n",
       "      <th>2015-06-05</th>\n",
       "      <td>21.36</td>\n",
       "      <td>21.452421</td>\n",
       "    </tr>\n",
       "    <tr>\n",
       "      <th>2014-07-17</th>\n",
       "      <td>25.20</td>\n",
       "      <td>25.205437</td>\n",
       "    </tr>\n",
       "    <tr>\n",
       "      <th>2017-05-22</th>\n",
       "      <td>17.70</td>\n",
       "      <td>17.777115</td>\n",
       "    </tr>\n",
       "    <tr>\n",
       "      <th>2016-10-08</th>\n",
       "      <td>16.00</td>\n",
       "      <td>15.914537</td>\n",
       "    </tr>\n",
       "    <tr>\n",
       "      <th>2017-03-27</th>\n",
       "      <td>13.50</td>\n",
       "      <td>13.602114</td>\n",
       "    </tr>\n",
       "    <tr>\n",
       "      <th>2020-07-22</th>\n",
       "      <td>15.55</td>\n",
       "      <td>15.532106</td>\n",
       "    </tr>\n",
       "    <tr>\n",
       "      <th>2013-11-11</th>\n",
       "      <td>21.50</td>\n",
       "      <td>21.242497</td>\n",
       "    </tr>\n",
       "    <tr>\n",
       "      <th>2017-05-23</th>\n",
       "      <td>17.71</td>\n",
       "      <td>17.633512</td>\n",
       "    </tr>\n",
       "    <tr>\n",
       "      <th>2012-11-15</th>\n",
       "      <td>17.70</td>\n",
       "      <td>17.665670</td>\n",
       "    </tr>\n",
       "    <tr>\n",
       "      <th>2022-12-16</th>\n",
       "      <td>24.10</td>\n",
       "      <td>23.891138</td>\n",
       "    </tr>\n",
       "    <tr>\n",
       "      <th>2015-07-16</th>\n",
       "      <td>17.72</td>\n",
       "      <td>17.835879</td>\n",
       "    </tr>\n",
       "    <tr>\n",
       "      <th>2021-03-22</th>\n",
       "      <td>22.50</td>\n",
       "      <td>22.488460</td>\n",
       "    </tr>\n",
       "    <tr>\n",
       "      <th>2013-10-28</th>\n",
       "      <td>21.45</td>\n",
       "      <td>21.329959</td>\n",
       "    </tr>\n",
       "    <tr>\n",
       "      <th>2016-02-09</th>\n",
       "      <td>14.80</td>\n",
       "      <td>14.707184</td>\n",
       "    </tr>\n",
       "    <tr>\n",
       "      <th>2019-03-22</th>\n",
       "      <td>22.05</td>\n",
       "      <td>22.038360</td>\n",
       "    </tr>\n",
       "    <tr>\n",
       "      <th>2021-01-09</th>\n",
       "      <td>24.00</td>\n",
       "      <td>23.985527</td>\n",
       "    </tr>\n",
       "    <tr>\n",
       "      <th>2016-11-11</th>\n",
       "      <td>15.13</td>\n",
       "      <td>15.083288</td>\n",
       "    </tr>\n",
       "  </tbody>\n",
       "</table>\n",
       "</div>"
      ],
      "text/plain": [
       "            Actual  Predicted\n",
       "Date                         \n",
       "2019-09-12   18.50  18.531109\n",
       "2020-11-26   24.50  24.764586\n",
       "2023-07-02   25.00  25.032581\n",
       "2021-12-17   24.80  25.007321\n",
       "2022-11-28   22.00  21.836573\n",
       "2022-11-18   21.35  21.157854\n",
       "2016-04-11   14.80  14.859396\n",
       "2022-08-03   26.80  26.785950\n",
       "2015-06-05   21.36  21.452421\n",
       "2014-07-17   25.20  25.205437\n",
       "2017-05-22   17.70  17.777115\n",
       "2016-10-08   16.00  15.914537\n",
       "2017-03-27   13.50  13.602114\n",
       "2020-07-22   15.55  15.532106\n",
       "2013-11-11   21.50  21.242497\n",
       "2017-05-23   17.71  17.633512\n",
       "2012-11-15   17.70  17.665670\n",
       "2022-12-16   24.10  23.891138\n",
       "2015-07-16   17.72  17.835879\n",
       "2021-03-22   22.50  22.488460\n",
       "2013-10-28   21.45  21.329959\n",
       "2016-02-09   14.80  14.707184\n",
       "2019-03-22   22.05  22.038360\n",
       "2021-01-09   24.00  23.985527\n",
       "2016-11-11   15.13  15.083288"
      ]
     },
     "execution_count": 205,
     "metadata": {},
     "output_type": "execute_result"
    }
   ],
   "source": [
    "dfr.head(25)"
   ]
  },
  {
   "cell_type": "code",
   "execution_count": 206,
   "id": "0059c47d",
   "metadata": {},
   "outputs": [],
   "source": [
    "from sklearn.metrics import confusion_matrix, accuracy_score"
   ]
  },
  {
   "cell_type": "code",
   "execution_count": 207,
   "id": "a77c5d06",
   "metadata": {},
   "outputs": [
    {
     "data": {
      "text/plain": [
       "0.9976363963119467"
      ]
     },
     "execution_count": 207,
     "metadata": {},
     "output_type": "execute_result"
    }
   ],
   "source": [
    "regressor.score(X_test,y_test)\n"
   ]
  },
  {
   "cell_type": "code",
   "execution_count": 208,
   "id": "85980362",
   "metadata": {},
   "outputs": [],
   "source": [
    "import math"
   ]
  },
  {
   "cell_type": "code",
   "execution_count": 209,
   "id": "81f62d28",
   "metadata": {},
   "outputs": [
    {
     "name": "stdout",
     "output_type": "stream",
     "text": [
      "Mean Absolute Error: 0.14430338712120122\n"
     ]
    }
   ],
   "source": [
    "print('Mean Absolute Error:',metrics.mean_absolute_error(y_test,predicted))"
   ]
  },
  {
   "cell_type": "code",
   "execution_count": 210,
   "id": "b570a4b4",
   "metadata": {},
   "outputs": [
    {
     "name": "stdout",
     "output_type": "stream",
     "text": [
      "Mean Squared  Error: 0.04393128948884396\n"
     ]
    }
   ],
   "source": [
    "print('Mean Squared  Error:',metrics.mean_squared_error(y_test,predicted))"
   ]
  },
  {
   "cell_type": "code",
   "execution_count": 211,
   "id": "6653d8d1",
   "metadata": {},
   "outputs": [
    {
     "name": "stdout",
     "output_type": "stream",
     "text": [
      "Root Mean Squared Error: 0.2095979233886728\n"
     ]
    }
   ],
   "source": [
    "print('Root Mean Squared Error:',math.sqrt(metrics.mean_squared_error(y_test,predicted)))"
   ]
  },
  {
   "cell_type": "code",
   "execution_count": 212,
   "id": "957a8fcf",
   "metadata": {},
   "outputs": [],
   "source": [
    "graph=dfr.head(20)"
   ]
  },
  {
   "cell_type": "code",
   "execution_count": 215,
   "id": "7fec63ee",
   "metadata": {},
   "outputs": [
    {
     "data": {
      "text/plain": [
       "<AxesSubplot:xlabel='Date'>"
      ]
     },
     "execution_count": 215,
     "metadata": {},
     "output_type": "execute_result"
    },
    {
     "data": {
      "image/png": "[encoded data removed]",
      "text/plain": [
       "<Figure size 640x480 with 1 Axes>"
      ]
     },
     "metadata": {},
     "output_type": "display_data"
    }
   ],
   "source": [
    "graph.plot(kind='bar')"
   ]
  },
  {
   "cell_type": "code",
   "execution_count": null,
   "id": "8362f13e",
   "metadata": {},
   "outputs": [],
   "source": []
  },
  {
   "cell_type": "code",
   "execution_count": null,
   "id": "4d85a7f4",
   "metadata": {},
   "outputs": [],
   "source": []
  }
 ],
 "metadata": {
  "kernelspec": {
   "display_name": "Python 3 (ipykernel)",
   "language": "python",
   "name": "python3"
  },
  "language_info": {
   "codemirror_mode": {
    "name": "ipython",
    "version": 3
   },
   "file_extension": ".py",
   "mimetype": "text/x-python",
   "name": "python",
   "nbconvert_exporter": "python",
   "pygments_lexer": "ipython3",
   "version": "3.9.13"
  }
 },
 "nbformat": 4,
 "nbformat_minor": 5
}
