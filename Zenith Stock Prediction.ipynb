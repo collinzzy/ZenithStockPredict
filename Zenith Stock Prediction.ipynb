{
 "cells": [
  {
   "cell_type": "code",
   "execution_count": 40,
   "id": "522bb971",
   "metadata": {},
   "outputs": [],
   "source": [
    "import pandas as pd\n",
    "import numpy as np\n",
    "from sklearn import metrics\n",
    "%matplotlib inline\n",
    "import matplotlib.pyplot as plt"
   ]
  },
  {
   "cell_type": "code",
   "execution_count": 41,
   "id": "ad1c6fb2",
   "metadata": {},
   "outputs": [],
   "source": [
    "df = pd.read_excel('ZENITHB.xlsx',index_col=\"Date\",parse_dates=True)"
   ]
  },
  {
   "cell_type": "code",
   "execution_count": 42,
   "id": "8ab2d10b",
   "metadata": {},
   "outputs": [
    {
     "data": {
      "text/html": [
       "<div>\n",
       "<style scoped>\n",
       "    .dataframe tbody tr th:only-of-type {\n",
       "        vertical-align: middle;\n",
       "    }\n",
       "\n",
       "    .dataframe tbody tr th {\n",
       "        vertical-align: top;\n",
       "    }\n",
       "\n",
       "    .dataframe thead th {\n",
       "        text-align: right;\n",
       "    }\n",
       "</style>\n",
       "<table border=\"1\" class=\"dataframe\">\n",
       "  <thead>\n",
       "    <tr style=\"text-align: right;\">\n",
       "      <th></th>\n",
       "      <th>Close</th>\n",
       "      <th>Open</th>\n",
       "      <th>High</th>\n",
       "      <th>Low</th>\n",
       "      <th>Vol(millions)</th>\n",
       "    </tr>\n",
       "    <tr>\n",
       "      <th>Date</th>\n",
       "      <th></th>\n",
       "      <th></th>\n",
       "      <th></th>\n",
       "      <th></th>\n",
       "      <th></th>\n",
       "    </tr>\n",
       "  </thead>\n",
       "  <tbody>\n",
       "    <tr>\n",
       "      <th>2023-05-26</th>\n",
       "      <td>27.00</td>\n",
       "      <td>26.75</td>\n",
       "      <td>27.00</td>\n",
       "      <td>26.40</td>\n",
       "      <td>50.01</td>\n",
       "    </tr>\n",
       "    <tr>\n",
       "      <th>2023-05-25</th>\n",
       "      <td>26.75</td>\n",
       "      <td>26.75</td>\n",
       "      <td>26.80</td>\n",
       "      <td>26.60</td>\n",
       "      <td>39.40</td>\n",
       "    </tr>\n",
       "    <tr>\n",
       "      <th>2023-05-24</th>\n",
       "      <td>26.75</td>\n",
       "      <td>27.00</td>\n",
       "      <td>27.20</td>\n",
       "      <td>26.00</td>\n",
       "      <td>37.56</td>\n",
       "    </tr>\n",
       "    <tr>\n",
       "      <th>2023-05-23</th>\n",
       "      <td>27.00</td>\n",
       "      <td>26.45</td>\n",
       "      <td>27.00</td>\n",
       "      <td>26.25</td>\n",
       "      <td>59.00</td>\n",
       "    </tr>\n",
       "    <tr>\n",
       "      <th>2023-05-22</th>\n",
       "      <td>26.45</td>\n",
       "      <td>26.00</td>\n",
       "      <td>26.45</td>\n",
       "      <td>25.05</td>\n",
       "      <td>53.43</td>\n",
       "    </tr>\n",
       "  </tbody>\n",
       "</table>\n",
       "</div>"
      ],
      "text/plain": [
       "            Close   Open   High    Low  Vol(millions)\n",
       "Date                                                 \n",
       "2023-05-26  27.00  26.75  27.00  26.40          50.01\n",
       "2023-05-25  26.75  26.75  26.80  26.60          39.40\n",
       "2023-05-24  26.75  27.00  27.20  26.00          37.56\n",
       "2023-05-23  27.00  26.45  27.00  26.25          59.00\n",
       "2023-05-22  26.45  26.00  26.45  25.05          53.43"
      ]
     },
     "execution_count": 42,
     "metadata": {},
     "output_type": "execute_result"
    }
   ],
   "source": [
    "df.head()"
   ]
  },
  {
   "cell_type": "code",
   "execution_count": 43,
   "id": "c1afcb7b",
   "metadata": {},
   "outputs": [
    {
     "data": {
      "text/html": [
       "<div>\n",
       "<style scoped>\n",
       "    .dataframe tbody tr th:only-of-type {\n",
       "        vertical-align: middle;\n",
       "    }\n",
       "\n",
       "    .dataframe tbody tr th {\n",
       "        vertical-align: top;\n",
       "    }\n",
       "\n",
       "    .dataframe thead th {\n",
       "        text-align: right;\n",
       "    }\n",
       "</style>\n",
       "<table border=\"1\" class=\"dataframe\">\n",
       "  <thead>\n",
       "    <tr style=\"text-align: right;\">\n",
       "      <th></th>\n",
       "      <th>Close</th>\n",
       "      <th>Open</th>\n",
       "      <th>High</th>\n",
       "      <th>Low</th>\n",
       "      <th>Vol(millions)</th>\n",
       "    </tr>\n",
       "  </thead>\n",
       "  <tbody>\n",
       "    <tr>\n",
       "      <th>count</th>\n",
       "      <td>2807.000000</td>\n",
       "      <td>2807.000000</td>\n",
       "      <td>2807.000000</td>\n",
       "      <td>2807.000000</td>\n",
       "      <td>2807.000000</td>\n",
       "    </tr>\n",
       "    <tr>\n",
       "      <th>mean</th>\n",
       "      <td>20.386003</td>\n",
       "      <td>20.379302</td>\n",
       "      <td>20.608165</td>\n",
       "      <td>20.170114</td>\n",
       "      <td>26.709708</td>\n",
       "    </tr>\n",
       "    <tr>\n",
       "      <th>std</th>\n",
       "      <td>4.397584</td>\n",
       "      <td>4.446984</td>\n",
       "      <td>4.422261</td>\n",
       "      <td>4.374042</td>\n",
       "      <td>38.333144</td>\n",
       "    </tr>\n",
       "    <tr>\n",
       "      <th>min</th>\n",
       "      <td>9.000000</td>\n",
       "      <td>0.000000</td>\n",
       "      <td>9.440000</td>\n",
       "      <td>8.830000</td>\n",
       "      <td>1.000000</td>\n",
       "    </tr>\n",
       "    <tr>\n",
       "      <th>25%</th>\n",
       "      <td>16.800000</td>\n",
       "      <td>16.800000</td>\n",
       "      <td>16.990000</td>\n",
       "      <td>16.600000</td>\n",
       "      <td>9.730000</td>\n",
       "    </tr>\n",
       "    <tr>\n",
       "      <th>50%</th>\n",
       "      <td>21.000000</td>\n",
       "      <td>21.000000</td>\n",
       "      <td>21.290000</td>\n",
       "      <td>20.740000</td>\n",
       "      <td>17.270000</td>\n",
       "    </tr>\n",
       "    <tr>\n",
       "      <th>75%</th>\n",
       "      <td>24.000000</td>\n",
       "      <td>24.000000</td>\n",
       "      <td>24.065000</td>\n",
       "      <td>23.750000</td>\n",
       "      <td>30.825000</td>\n",
       "    </tr>\n",
       "    <tr>\n",
       "      <th>max</th>\n",
       "      <td>33.510000</td>\n",
       "      <td>34.200000</td>\n",
       "      <td>34.200000</td>\n",
       "      <td>32.550000</td>\n",
       "      <td>831.390000</td>\n",
       "    </tr>\n",
       "  </tbody>\n",
       "</table>\n",
       "</div>"
      ],
      "text/plain": [
       "             Close         Open         High          Low  Vol(millions)\n",
       "count  2807.000000  2807.000000  2807.000000  2807.000000    2807.000000\n",
       "mean     20.386003    20.379302    20.608165    20.170114      26.709708\n",
       "std       4.397584     4.446984     4.422261     4.374042      38.333144\n",
       "min       9.000000     0.000000     9.440000     8.830000       1.000000\n",
       "25%      16.800000    16.800000    16.990000    16.600000       9.730000\n",
       "50%      21.000000    21.000000    21.290000    20.740000      17.270000\n",
       "75%      24.000000    24.000000    24.065000    23.750000      30.825000\n",
       "max      33.510000    34.200000    34.200000    32.550000     831.390000"
      ]
     },
     "execution_count": 43,
     "metadata": {},
     "output_type": "execute_result"
    }
   ],
   "source": [
    "df.describe()"
   ]
  },
  {
   "cell_type": "code",
   "execution_count": 44,
   "id": "89219759",
   "metadata": {},
   "outputs": [
    {
     "data": {
      "text/plain": [
       "(2807, 5)"
      ]
     },
     "execution_count": 44,
     "metadata": {},
     "output_type": "execute_result"
    }
   ],
   "source": [
    "df.shape"
   ]
  },
  {
   "cell_type": "code",
   "execution_count": 45,
   "id": "85778066",
   "metadata": {},
   "outputs": [
    {
     "data": {
      "text/html": [
       "<div>\n",
       "<style scoped>\n",
       "    .dataframe tbody tr th:only-of-type {\n",
       "        vertical-align: middle;\n",
       "    }\n",
       "\n",
       "    .dataframe tbody tr th {\n",
       "        vertical-align: top;\n",
       "    }\n",
       "\n",
       "    .dataframe thead th {\n",
       "        text-align: right;\n",
       "    }\n",
       "</style>\n",
       "<table border=\"1\" class=\"dataframe\">\n",
       "  <thead>\n",
       "    <tr style=\"text-align: right;\">\n",
       "      <th></th>\n",
       "      <th>Close</th>\n",
       "      <th>Open</th>\n",
       "      <th>High</th>\n",
       "      <th>Low</th>\n",
       "      <th>Vol(millions)</th>\n",
       "    </tr>\n",
       "    <tr>\n",
       "      <th>Date</th>\n",
       "      <th></th>\n",
       "      <th></th>\n",
       "      <th></th>\n",
       "      <th></th>\n",
       "      <th></th>\n",
       "    </tr>\n",
       "  </thead>\n",
       "  <tbody>\n",
       "    <tr>\n",
       "      <th>2012-01-27</th>\n",
       "      <td>12.10</td>\n",
       "      <td>12.01</td>\n",
       "      <td>12.22</td>\n",
       "      <td>12.01</td>\n",
       "      <td>117.01</td>\n",
       "    </tr>\n",
       "    <tr>\n",
       "      <th>2012-01-26</th>\n",
       "      <td>12.02</td>\n",
       "      <td>12.00</td>\n",
       "      <td>12.02</td>\n",
       "      <td>11.97</td>\n",
       "      <td>61.36</td>\n",
       "    </tr>\n",
       "    <tr>\n",
       "      <th>2012-01-25</th>\n",
       "      <td>12.00</td>\n",
       "      <td>12.00</td>\n",
       "      <td>12.10</td>\n",
       "      <td>11.95</td>\n",
       "      <td>46.58</td>\n",
       "    </tr>\n",
       "    <tr>\n",
       "      <th>2012-01-24</th>\n",
       "      <td>11.96</td>\n",
       "      <td>12.00</td>\n",
       "      <td>12.00</td>\n",
       "      <td>11.95</td>\n",
       "      <td>8.27</td>\n",
       "    </tr>\n",
       "    <tr>\n",
       "      <th>2012-01-23</th>\n",
       "      <td>12.00</td>\n",
       "      <td>12.05</td>\n",
       "      <td>12.05</td>\n",
       "      <td>11.95</td>\n",
       "      <td>16.15</td>\n",
       "    </tr>\n",
       "  </tbody>\n",
       "</table>\n",
       "</div>"
      ],
      "text/plain": [
       "            Close   Open   High    Low  Vol(millions)\n",
       "Date                                                 \n",
       "2012-01-27  12.10  12.01  12.22  12.01         117.01\n",
       "2012-01-26  12.02  12.00  12.02  11.97          61.36\n",
       "2012-01-25  12.00  12.00  12.10  11.95          46.58\n",
       "2012-01-24  11.96  12.00  12.00  11.95           8.27\n",
       "2012-01-23  12.00  12.05  12.05  11.95          16.15"
      ]
     },
     "execution_count": 45,
     "metadata": {},
     "output_type": "execute_result"
    }
   ],
   "source": [
    "df.tail()"
   ]
  },
  {
   "cell_type": "code",
   "execution_count": 46,
   "id": "ed4dc17c",
   "metadata": {},
   "outputs": [
    {
     "data": {
      "text/plain": [
       "Close            0\n",
       "Open             0\n",
       "High             0\n",
       "Low              0\n",
       "Vol(millions)    0\n",
       "dtype: int64"
      ]
     },
     "execution_count": 46,
     "metadata": {},
     "output_type": "execute_result"
    }
   ],
   "source": [
    "df.isnull().sum()"
   ]
  },
  {
   "cell_type": "code",
   "execution_count": 47,
   "id": "5aeb4881",
   "metadata": {},
   "outputs": [
    {
     "data": {
      "text/plain": [
       "Close            False\n",
       "Open             False\n",
       "High             False\n",
       "Low              False\n",
       "Vol(millions)    False\n",
       "dtype: bool"
      ]
     },
     "execution_count": 47,
     "metadata": {},
     "output_type": "execute_result"
    }
   ],
   "source": [
    "df.isna().any()"
   ]
  },
  {
   "cell_type": "code",
   "execution_count": 48,
   "id": "8acae3e7",
   "metadata": {},
   "outputs": [
    {
     "name": "stdout",
     "output_type": "stream",
     "text": [
      "<class 'pandas.core.frame.DataFrame'>\n",
      "DatetimeIndex: 2807 entries, 2023-05-26 to 2012-01-23\n",
      "Data columns (total 5 columns):\n",
      " #   Column         Non-Null Count  Dtype  \n",
      "---  ------         --------------  -----  \n",
      " 0   Close          2807 non-null   float64\n",
      " 1   Open           2807 non-null   float64\n",
      " 2   High           2807 non-null   float64\n",
      " 3   Low            2807 non-null   float64\n",
      " 4   Vol(millions)  2807 non-null   float64\n",
      "dtypes: float64(5)\n",
      "memory usage: 131.6 KB\n"
     ]
    }
   ],
   "source": [
    "df.info()"
   ]
  },
  {
   "cell_type": "code",
   "execution_count": 49,
   "id": "55d366ae",
   "metadata": {},
   "outputs": [
    {
     "name": "stdout",
     "output_type": "stream",
     "text": [
      "2807\n"
     ]
    }
   ],
   "source": [
    "print(len(df))"
   ]
  },
  {
   "cell_type": "code",
   "execution_count": 50,
   "id": "1aaee88a",
   "metadata": {},
   "outputs": [
    {
     "data": {
      "text/plain": [
       "<AxesSubplot:xlabel='Date'>"
      ]
     },
     "execution_count": 50,
     "metadata": {},
     "output_type": "execute_result"
    },
    {
     "data": {
      "image/png": "[encoded data removed]",
      "text/plain": [
       "<Figure size 1600x600 with 1 Axes>"
      ]
     },
     "metadata": {},
     "output_type": "display_data"
    }
   ],
   "source": [
    "df['Open'].plot(figsize=(16,6))"
   ]
  },
  {
   "cell_type": "code",
   "execution_count": 51,
   "id": "20d2f472",
   "metadata": {
    "scrolled": true
   },
   "outputs": [],
   "source": [
    "X  = df[['Open','High','Low','Vol(millions)']]\n",
    "y = df['Close']"
   ]
  },
  {
   "cell_type": "code",
   "execution_count": 52,
   "id": "9e112f9f",
   "metadata": {},
   "outputs": [],
   "source": [
    "from sklearn.model_selection import train_test_split\n",
    "X_train , X_test , y_train , y_test = train_test_split(X ,y , random_state = 0)"
   ]
  },
  {
   "cell_type": "code",
   "execution_count": 53,
   "id": "b38a38f3",
   "metadata": {},
   "outputs": [
    {
     "data": {
      "text/plain": [
       "(2105, 4)"
      ]
     },
     "execution_count": 53,
     "metadata": {},
     "output_type": "execute_result"
    }
   ],
   "source": [
    "X_train.shape"
   ]
  },
  {
   "cell_type": "code",
   "execution_count": 54,
   "id": "ede3d490",
   "metadata": {},
   "outputs": [
    {
     "data": {
      "text/plain": [
       "(702, 4)"
      ]
     },
     "execution_count": 54,
     "metadata": {},
     "output_type": "execute_result"
    }
   ],
   "source": [
    "X_test.shape"
   ]
  },
  {
   "cell_type": "code",
   "execution_count": 55,
   "id": "060a5fdf",
   "metadata": {},
   "outputs": [],
   "source": [
    "from sklearn.linear_model import LinearRegression\n",
    "from sklearn.metrics import confusion_matrix, accuracy_score\n",
    "regressor = LinearRegression()"
   ]
  },
  {
   "cell_type": "code",
   "execution_count": 56,
   "id": "752077c7",
   "metadata": {},
   "outputs": [
    {
     "data": {
      "text/plain": [
       "LinearRegression()"
      ]
     },
     "execution_count": 56,
     "metadata": {},
     "output_type": "execute_result"
    }
   ],
   "source": [
    "regressor.fit(X_train,y_train)"
   ]
  },
  {
   "cell_type": "code",
   "execution_count": 57,
   "id": "c41a85cb",
   "metadata": {},
   "outputs": [
    {
     "name": "stdout",
     "output_type": "stream",
     "text": [
      "[-3.10904924e-01  6.75831349e-01  6.33649772e-01 -4.39216001e-05]\n"
     ]
    }
   ],
   "source": [
    "print(regressor.coef_)"
   ]
  },
  {
   "cell_type": "code",
   "execution_count": 58,
   "id": "21ad6455",
   "metadata": {},
   "outputs": [
    {
     "name": "stdout",
     "output_type": "stream",
     "text": [
      "0.019658673323643683\n"
     ]
    }
   ],
   "source": [
    "print(regressor.intercept_)"
   ]
  },
  {
   "cell_type": "code",
   "execution_count": 59,
   "id": "8dda008e",
   "metadata": {},
   "outputs": [],
   "source": [
    "df2 = pd.read_excel('Test.xlsx',index_col=\"Date\",parse_dates=True)"
   ]
  },
  {
   "cell_type": "code",
   "execution_count": 60,
   "id": "c8dc39f2",
   "metadata": {
    "scrolled": true
   },
   "outputs": [],
   "source": [
    "predicted = regressor.predict(df2)"
   ]
  },
  {
   "cell_type": "code",
   "execution_count": 61,
   "id": "49ef6690",
   "metadata": {
    "scrolled": true
   },
   "outputs": [
    {
     "name": "stdout",
     "output_type": "stream",
     "text": [
      "            Open   High    Low  Vol(millions)\n",
      "Date                                         \n",
      "2023-05-30    27  26.49  25.73          46.62\n"
     ]
    }
   ],
   "source": [
    "print(df2)"
   ]
  },
  {
   "cell_type": "code",
   "execution_count": 62,
   "id": "03189420",
   "metadata": {},
   "outputs": [
    {
     "data": {
      "text/plain": [
       "(1,)"
      ]
     },
     "execution_count": 62,
     "metadata": {},
     "output_type": "execute_result"
    }
   ],
   "source": [
    "predicted.shape"
   ]
  },
  {
   "cell_type": "code",
   "execution_count": 63,
   "id": "40e3d3dc",
   "metadata": {},
   "outputs": [
    {
     "data": {
      "text/plain": [
       "array([25.82975916])"
      ]
     },
     "execution_count": 63,
     "metadata": {},
     "output_type": "execute_result"
    }
   ],
   "source": [
    "predicted"
   ]
  },
  {
   "cell_type": "code",
   "execution_count": 39,
   "id": "0c899d70",
   "metadata": {},
   "outputs": [],
   "source": [
    "dframe=pd.DataFrame(y_test,predicted)"
   ]
  },
  {
   "cell_type": "code",
   "execution_count": 222,
   "id": "91959fe6",
   "metadata": {},
   "outputs": [
    {
     "ename": "ValueError",
     "evalue": "array length 1 does not match index length 701",
     "output_type": "error",
     "traceback": [
      "\u001b[1;31m---------------------------------------------------------------------------\u001b[0m",
      "\u001b[1;31mValueError\u001b[0m                                Traceback (most recent call last)",
      "\u001b[1;32m~\\AppData\\Local\\Temp\\ipykernel_18988\\3086328606.py\u001b[0m in \u001b[0;36m<module>\u001b[1;34m\u001b[0m\n\u001b[1;32m----> 1\u001b[1;33m \u001b[0mdfr\u001b[0m\u001b[1;33m=\u001b[0m\u001b[0mpd\u001b[0m\u001b[1;33m.\u001b[0m\u001b[0mDataFrame\u001b[0m\u001b[1;33m(\u001b[0m\u001b[1;33m{\u001b[0m\u001b[1;34m'Actual'\u001b[0m\u001b[1;33m:\u001b[0m\u001b[0my_test\u001b[0m\u001b[1;33m,\u001b[0m\u001b[1;34m'Predicted'\u001b[0m\u001b[1;33m:\u001b[0m\u001b[0mpredicted\u001b[0m\u001b[1;33m}\u001b[0m\u001b[1;33m)\u001b[0m\u001b[1;33m\u001b[0m\u001b[1;33m\u001b[0m\u001b[0m\n\u001b[0m",
      "\u001b[1;32m~\\Anaconda3\\lib\\site-packages\\pandas\\core\\frame.py\u001b[0m in \u001b[0;36m__init__\u001b[1;34m(self, data, index, columns, dtype, copy)\u001b[0m\n\u001b[0;32m    634\u001b[0m         \u001b[1;32melif\u001b[0m \u001b[0misinstance\u001b[0m\u001b[1;33m(\u001b[0m\u001b[0mdata\u001b[0m\u001b[1;33m,\u001b[0m \u001b[0mdict\u001b[0m\u001b[1;33m)\u001b[0m\u001b[1;33m:\u001b[0m\u001b[1;33m\u001b[0m\u001b[1;33m\u001b[0m\u001b[0m\n\u001b[0;32m    635\u001b[0m             \u001b[1;31m# GH#38939 de facto copy defaults to False only in non-dict cases\u001b[0m\u001b[1;33m\u001b[0m\u001b[1;33m\u001b[0m\u001b[0m\n\u001b[1;32m--> 636\u001b[1;33m             \u001b[0mmgr\u001b[0m \u001b[1;33m=\u001b[0m \u001b[0mdict_to_mgr\u001b[0m\u001b[1;33m(\u001b[0m\u001b[0mdata\u001b[0m\u001b[1;33m,\u001b[0m \u001b[0mindex\u001b[0m\u001b[1;33m,\u001b[0m \u001b[0mcolumns\u001b[0m\u001b[1;33m,\u001b[0m \u001b[0mdtype\u001b[0m\u001b[1;33m=\u001b[0m\u001b[0mdtype\u001b[0m\u001b[1;33m,\u001b[0m \u001b[0mcopy\u001b[0m\u001b[1;33m=\u001b[0m\u001b[0mcopy\u001b[0m\u001b[1;33m,\u001b[0m \u001b[0mtyp\u001b[0m\u001b[1;33m=\u001b[0m\u001b[0mmanager\u001b[0m\u001b[1;33m)\u001b[0m\u001b[1;33m\u001b[0m\u001b[1;33m\u001b[0m\u001b[0m\n\u001b[0m\u001b[0;32m    637\u001b[0m         \u001b[1;32melif\u001b[0m \u001b[0misinstance\u001b[0m\u001b[1;33m(\u001b[0m\u001b[0mdata\u001b[0m\u001b[1;33m,\u001b[0m \u001b[0mma\u001b[0m\u001b[1;33m.\u001b[0m\u001b[0mMaskedArray\u001b[0m\u001b[1;33m)\u001b[0m\u001b[1;33m:\u001b[0m\u001b[1;33m\u001b[0m\u001b[1;33m\u001b[0m\u001b[0m\n\u001b[0;32m    638\u001b[0m             \u001b[1;32mimport\u001b[0m \u001b[0mnumpy\u001b[0m\u001b[1;33m.\u001b[0m\u001b[0mma\u001b[0m\u001b[1;33m.\u001b[0m\u001b[0mmrecords\u001b[0m \u001b[1;32mas\u001b[0m \u001b[0mmrecords\u001b[0m\u001b[1;33m\u001b[0m\u001b[1;33m\u001b[0m\u001b[0m\n",
      "\u001b[1;32m~\\Anaconda3\\lib\\site-packages\\pandas\\core\\internals\\construction.py\u001b[0m in \u001b[0;36mdict_to_mgr\u001b[1;34m(data, index, columns, dtype, typ, copy)\u001b[0m\n\u001b[0;32m    500\u001b[0m         \u001b[1;31m# TODO: can we get rid of the dt64tz special case above?\u001b[0m\u001b[1;33m\u001b[0m\u001b[1;33m\u001b[0m\u001b[0m\n\u001b[0;32m    501\u001b[0m \u001b[1;33m\u001b[0m\u001b[0m\n\u001b[1;32m--> 502\u001b[1;33m     \u001b[1;32mreturn\u001b[0m \u001b[0marrays_to_mgr\u001b[0m\u001b[1;33m(\u001b[0m\u001b[0marrays\u001b[0m\u001b[1;33m,\u001b[0m \u001b[0mcolumns\u001b[0m\u001b[1;33m,\u001b[0m \u001b[0mindex\u001b[0m\u001b[1;33m,\u001b[0m \u001b[0mdtype\u001b[0m\u001b[1;33m=\u001b[0m\u001b[0mdtype\u001b[0m\u001b[1;33m,\u001b[0m \u001b[0mtyp\u001b[0m\u001b[1;33m=\u001b[0m\u001b[0mtyp\u001b[0m\u001b[1;33m,\u001b[0m \u001b[0mconsolidate\u001b[0m\u001b[1;33m=\u001b[0m\u001b[0mcopy\u001b[0m\u001b[1;33m)\u001b[0m\u001b[1;33m\u001b[0m\u001b[1;33m\u001b[0m\u001b[0m\n\u001b[0m\u001b[0;32m    503\u001b[0m \u001b[1;33m\u001b[0m\u001b[0m\n\u001b[0;32m    504\u001b[0m \u001b[1;33m\u001b[0m\u001b[0m\n",
      "\u001b[1;32m~\\Anaconda3\\lib\\site-packages\\pandas\\core\\internals\\construction.py\u001b[0m in \u001b[0;36marrays_to_mgr\u001b[1;34m(arrays, columns, index, dtype, verify_integrity, typ, consolidate)\u001b[0m\n\u001b[0;32m    118\u001b[0m         \u001b[1;31m# figure out the index, if necessary\u001b[0m\u001b[1;33m\u001b[0m\u001b[1;33m\u001b[0m\u001b[0m\n\u001b[0;32m    119\u001b[0m         \u001b[1;32mif\u001b[0m \u001b[0mindex\u001b[0m \u001b[1;32mis\u001b[0m \u001b[1;32mNone\u001b[0m\u001b[1;33m:\u001b[0m\u001b[1;33m\u001b[0m\u001b[1;33m\u001b[0m\u001b[0m\n\u001b[1;32m--> 120\u001b[1;33m             \u001b[0mindex\u001b[0m \u001b[1;33m=\u001b[0m \u001b[0m_extract_index\u001b[0m\u001b[1;33m(\u001b[0m\u001b[0marrays\u001b[0m\u001b[1;33m)\u001b[0m\u001b[1;33m\u001b[0m\u001b[1;33m\u001b[0m\u001b[0m\n\u001b[0m\u001b[0;32m    121\u001b[0m         \u001b[1;32melse\u001b[0m\u001b[1;33m:\u001b[0m\u001b[1;33m\u001b[0m\u001b[1;33m\u001b[0m\u001b[0m\n\u001b[0;32m    122\u001b[0m             \u001b[0mindex\u001b[0m \u001b[1;33m=\u001b[0m \u001b[0mensure_index\u001b[0m\u001b[1;33m(\u001b[0m\u001b[0mindex\u001b[0m\u001b[1;33m)\u001b[0m\u001b[1;33m\u001b[0m\u001b[1;33m\u001b[0m\u001b[0m\n",
      "\u001b[1;32m~\\Anaconda3\\lib\\site-packages\\pandas\\core\\internals\\construction.py\u001b[0m in \u001b[0;36m_extract_index\u001b[1;34m(data)\u001b[0m\n\u001b[0;32m    686\u001b[0m                         \u001b[1;34mf\"length {len(index)}\"\u001b[0m\u001b[1;33m\u001b[0m\u001b[1;33m\u001b[0m\u001b[0m\n\u001b[0;32m    687\u001b[0m                     )\n\u001b[1;32m--> 688\u001b[1;33m                     \u001b[1;32mraise\u001b[0m \u001b[0mValueError\u001b[0m\u001b[1;33m(\u001b[0m\u001b[0mmsg\u001b[0m\u001b[1;33m)\u001b[0m\u001b[1;33m\u001b[0m\u001b[1;33m\u001b[0m\u001b[0m\n\u001b[0m\u001b[0;32m    689\u001b[0m             \u001b[1;32melse\u001b[0m\u001b[1;33m:\u001b[0m\u001b[1;33m\u001b[0m\u001b[1;33m\u001b[0m\u001b[0m\n\u001b[0;32m    690\u001b[0m                 \u001b[0mindex\u001b[0m \u001b[1;33m=\u001b[0m \u001b[0mdefault_index\u001b[0m\u001b[1;33m(\u001b[0m\u001b[0mlengths\u001b[0m\u001b[1;33m[\u001b[0m\u001b[1;36m0\u001b[0m\u001b[1;33m]\u001b[0m\u001b[1;33m)\u001b[0m\u001b[1;33m\u001b[0m\u001b[1;33m\u001b[0m\u001b[0m\n",
      "\u001b[1;31mValueError\u001b[0m: array length 1 does not match index length 701"
     ]
    }
   ],
   "source": [
    "dfr=pd.DataFrame({'Actual':y_test,'Predicted':predicted})"
   ]
  },
  {
   "cell_type": "code",
   "execution_count": 204,
   "id": "c319f37b",
   "metadata": {},
   "outputs": [
    {
     "name": "stdout",
     "output_type": "stream",
     "text": [
      "            Actual  Predicted\n",
      "Date                         \n",
      "2019-09-12    18.5  18.531109\n",
      "2020-11-26    24.5  24.764586\n",
      "2023-07-02    25.0  25.032581\n",
      "2021-12-17    24.8  25.007321\n",
      "2022-11-28    22.0  21.836573\n",
      "...            ...        ...\n",
      "2018-10-19    22.9  22.727582\n",
      "2023-02-22    25.2  25.094755\n",
      "2015-04-27    22.0  21.951458\n",
      "2019-10-04    20.6  20.660109\n",
      "2021-09-20    23.5  23.574771\n",
      "\n",
      "[701 rows x 2 columns]\n"
     ]
    }
   ],
   "source": [
    "print(dfr)"
   ]
  },
  {
   "cell_type": "code",
   "execution_count": 205,
   "id": "e961d235",
   "metadata": {},
   "outputs": [
    {
     "data": {
      "text/html": [
       "<div>\n",
       "<style scoped>\n",
       "    .dataframe tbody tr th:only-of-type {\n",
       "        vertical-align: middle;\n",
       "    }\n",
       "\n",
       "    .dataframe tbody tr th {\n",
       "        vertical-align: top;\n",
       "    }\n",
       "\n",
       "    .dataframe thead th {\n",
       "        text-align: right;\n",
       "    }\n",
       "</style>\n",
       "<table border=\"1\" class=\"dataframe\">\n",
       "  <thead>\n",
       "    <tr style=\"text-align: right;\">\n",
       "      <th></th>\n",
       "      <th>Actual</th>\n",
       "      <th>Predicted</th>\n",
       "    </tr>\n",
       "    <tr>\n",
       "      <th>Date</th>\n",
       "      <th></th>\n",
       "      <th></th>\n",
       "    </tr>\n",
       "  </thead>\n",
       "  <tbody>\n",
       "    <tr>\n",
       "      <th>2019-09-12</th>\n",
       "      <td>18.50</td>\n",
       "      <td>18.531109</td>\n",
       "    </tr>\n",
       "    <tr>\n",
       "      <th>2020-11-26</th>\n",
       "      <td>24.50</td>\n",
       "      <td>24.764586</td>\n",
       "    </tr>\n",
       "    <tr>\n",
       "      <th>2023-07-02</th>\n",
       "      <td>25.00</td>\n",
       "      <td>25.032581</td>\n",
       "    </tr>\n",
       "    <tr>\n",
       "      <th>2021-12-17</th>\n",
       "      <td>24.80</td>\n",
       "      <td>25.007321</td>\n",
       "    </tr>\n",
       "    <tr>\n",
       "      <th>2022-11-28</th>\n",
       "      <td>22.00</td>\n",
       "      <td>21.836573</td>\n",
       "    </tr>\n",
       "    <tr>\n",
       "      <th>2022-11-18</th>\n",
       "      <td>21.35</td>\n",
       "      <td>21.157854</td>\n",
       "    </tr>\n",
       "    <tr>\n",
       "      <th>2016-04-11</th>\n",
       "      <td>14.80</td>\n",
       "      <td>14.859396</td>\n",
       "    </tr>\n",
       "    <tr>\n",
       "      <th>2022-08-03</th>\n",
       "      <td>26.80</td>\n",
       "      <td>26.785950</td>\n",
       "    </tr>\n",
       "    <tr>\n",
       "      <th>2015-06-05</th>\n",
       "      <td>21.36</td>\n",
       "      <td>21.452421</td>\n",
       "    </tr>\n",
       "    <tr>\n",
       "      <th>2014-07-17</th>\n",
       "      <td>25.20</td>\n",
       "      <td>25.205437</td>\n",
       "    </tr>\n",
       "    <tr>\n",
       "      <th>2017-05-22</th>\n",
       "      <td>17.70</td>\n",
       "      <td>17.777115</td>\n",
       "    </tr>\n",
       "    <tr>\n",
       "      <th>2016-10-08</th>\n",
       "      <td>16.00</td>\n",
       "      <td>15.914537</td>\n",
       "    </tr>\n",
       "    <tr>\n",
       "      <th>2017-03-27</th>\n",
       "      <td>13.50</td>\n",
       "      <td>13.602114</td>\n",
       "    </tr>\n",
       "    <tr>\n",
       "      <th>2020-07-22</th>\n",
       "      <td>15.55</td>\n",
       "      <td>15.532106</td>\n",
       "    </tr>\n",
       "    <tr>\n",
       "      <th>2013-11-11</th>\n",
       "      <td>21.50</td>\n",
       "      <td>21.242497</td>\n",
       "    </tr>\n",
       "    <tr>\n",
       "      <th>2017-05-23</th>\n",
       "      <td>17.71</td>\n",
       "      <td>17.633512</td>\n",
       "    </tr>\n",
       "    <tr>\n",
       "      <th>2012-11-15</th>\n",
       "      <td>17.70</td>\n",
       "      <td>17.665670</td>\n",
       "    </tr>\n",
       "    <tr>\n",
       "      <th>2022-12-16</th>\n",
       "      <td>24.10</td>\n",
       "      <td>23.891138</td>\n",
       "    </tr>\n",
       "    <tr>\n",
       "      <th>2015-07-16</th>\n",
       "      <td>17.72</td>\n",
       "      <td>17.835879</td>\n",
       "    </tr>\n",
       "    <tr>\n",
       "      <th>2021-03-22</th>\n",
       "      <td>22.50</td>\n",
       "      <td>22.488460</td>\n",
       "    </tr>\n",
       "    <tr>\n",
       "      <th>2013-10-28</th>\n",
       "      <td>21.45</td>\n",
       "      <td>21.329959</td>\n",
       "    </tr>\n",
       "    <tr>\n",
       "      <th>2016-02-09</th>\n",
       "      <td>14.80</td>\n",
       "      <td>14.707184</td>\n",
       "    </tr>\n",
       "    <tr>\n",
       "      <th>2019-03-22</th>\n",
       "      <td>22.05</td>\n",
       "      <td>22.038360</td>\n",
       "    </tr>\n",
       "    <tr>\n",
       "      <th>2021-01-09</th>\n",
       "      <td>24.00</td>\n",
       "      <td>23.985527</td>\n",
       "    </tr>\n",
       "    <tr>\n",
       "      <th>2016-11-11</th>\n",
       "      <td>15.13</td>\n",
       "      <td>15.083288</td>\n",
       "    </tr>\n",
       "  </tbody>\n",
       "</table>\n",
       "</div>"
      ],
      "text/plain": [
       "            Actual  Predicted\n",
       "Date                         \n",
       "2019-09-12   18.50  18.531109\n",
       "2020-11-26   24.50  24.764586\n",
       "2023-07-02   25.00  25.032581\n",
       "2021-12-17   24.80  25.007321\n",
       "2022-11-28   22.00  21.836573\n",
       "2022-11-18   21.35  21.157854\n",
       "2016-04-11   14.80  14.859396\n",
       "2022-08-03   26.80  26.785950\n",
       "2015-06-05   21.36  21.452421\n",
       "2014-07-17   25.20  25.205437\n",
       "2017-05-22   17.70  17.777115\n",
       "2016-10-08   16.00  15.914537\n",
       "2017-03-27   13.50  13.602114\n",
       "2020-07-22   15.55  15.532106\n",
       "2013-11-11   21.50  21.242497\n",
       "2017-05-23   17.71  17.633512\n",
       "2012-11-15   17.70  17.665670\n",
       "2022-12-16   24.10  23.891138\n",
       "2015-07-16   17.72  17.835879\n",
       "2021-03-22   22.50  22.488460\n",
       "2013-10-28   21.45  21.329959\n",
       "2016-02-09   14.80  14.707184\n",
       "2019-03-22   22.05  22.038360\n",
       "2021-01-09   24.00  23.985527\n",
       "2016-11-11   15.13  15.083288"
      ]
     },
     "execution_count": 205,
     "metadata": {},
     "output_type": "execute_result"
    }
   ],
   "source": [
    "dfr.head(25)"
   ]
  },
  {
   "cell_type": "code",
   "execution_count": 206,
   "id": "a1e2a4d6",
   "metadata": {},
   "outputs": [],
   "source": [
    "from sklearn.metrics import confusion_matrix, accuracy_score"
   ]
  },
  {
   "cell_type": "code",
   "execution_count": 207,
   "id": "c89b997d",
   "metadata": {},
   "outputs": [
    {
     "data": {
      "text/plain": [
       "0.9976363963119467"
      ]
     },
     "execution_count": 207,
     "metadata": {},
     "output_type": "execute_result"
    }
   ],
   "source": [
    "regressor.score(X_test,y_test)\n"
   ]
  },
  {
   "cell_type": "code",
   "execution_count": 208,
   "id": "17d61d4a",
   "metadata": {},
   "outputs": [],
   "source": [
    "import math"
   ]
  },
  {
   "cell_type": "code",
   "execution_count": 209,
   "id": "9ca45f90",
   "metadata": {},
   "outputs": [
    {
     "name": "stdout",
     "output_type": "stream",
     "text": [
      "Mean Absolute Error: 0.14430338712120122\n"
     ]
    }
   ],
   "source": [
    "print('Mean Absolute Error:',metrics.mean_absolute_error(y_test,predicted))"
   ]
  },
  {
   "cell_type": "code",
   "execution_count": 210,
   "id": "44d9139f",
   "metadata": {},
   "outputs": [
    {
     "name": "stdout",
     "output_type": "stream",
     "text": [
      "Mean Squared  Error: 0.04393128948884396\n"
     ]
    }
   ],
   "source": [
    "print('Mean Squared  Error:',metrics.mean_squared_error(y_test,predicted))"
   ]
  },
  {
   "cell_type": "code",
   "execution_count": 211,
   "id": "2f7143f9",
   "metadata": {},
   "outputs": [
    {
     "name": "stdout",
     "output_type": "stream",
     "text": [
      "Root Mean Squared Error: 0.2095979233886728\n"
     ]
    }
   ],
   "source": [
    "print('Root Mean Squared Error:',math.sqrt(metrics.mean_squared_error(y_test,predicted)))"
   ]
  },
  {
   "cell_type": "code",
   "execution_count": 212,
   "id": "3769378f",
   "metadata": {},
   "outputs": [],
   "source": [
    "graph=dfr.head(20)"
   ]
  },
  {
   "cell_type": "code",
   "execution_count": 215,
   "id": "0cda5746",
   "metadata": {},
   "outputs": [
    {
     "data": {
      "text/plain": [
       "<AxesSubplot:xlabel='Date'>"
      ]
     },
     "execution_count": 215,
     "metadata": {},
     "output_type": "execute_result"
    },
    {
     "data": {
      "image/png": "[encoded data removed]",
      "text/plain": [
       "<Figure size 640x480 with 1 Axes>"
      ]
     },
     "metadata": {},
     "output_type": "display_data"
    }
   ],
   "source": [
    "graph.plot(kind='bar')"
   ]
  },
  {
   "cell_type": "code",
   "execution_count": null,
   "id": "57cff331",
   "metadata": {},
   "outputs": [],
   "source": []
  },
  {
   "cell_type": "code",
   "execution_count": null,
   "id": "a677f6b2",
   "metadata": {},
   "outputs": [],
   "source": []
  }
 ],
 "metadata": {
  "kernelspec": {
   "display_name": "Python 3 (ipykernel)",
   "language": "python",
   "name": "python3"
  },
  "language_info": {
   "codemirror_mode": {
    "name": "ipython",
    "version": 3
   },
   "file_extension": ".py",
   "mimetype": "text/x-python",
   "name": "python",
   "nbconvert_exporter": "python",
   "pygments_lexer": "ipython3",
   "version": "3.9.13"
  }
 },
 "nbformat": 4,
 "nbformat_minor": 5
}
